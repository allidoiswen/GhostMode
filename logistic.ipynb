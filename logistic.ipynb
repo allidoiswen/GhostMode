{
 "cells": [
  {
   "cell_type": "code",
   "execution_count": 30,
   "metadata": {
    "colab": {
     "base_uri": "https://localhost:8080/",
     "height": 425
    },
    "colab_type": "code",
    "executionInfo": {
     "elapsed": 29488,
     "status": "ok",
     "timestamp": 1596897711798,
     "user": {
      "displayName": "Austin",
      "photoUrl": "https://lh3.googleusercontent.com/a-/AOh14GhaVUiRvQuYWy5qSitXZ_MLEn4pcMO4j38IZ7sJzA=s64",
      "userId": "10529859202551281440"
     },
     "user_tz": 240
    },
    "id": "a3_2upzo8_Ji",
    "outputId": "84822b22-0501-4524-8443-9d7262238ffc"
   },
   "outputs": [],
   "source": [
    "%matplotlib inline\n",
    "import matplotlib.pyplot as plt\n",
    "import pandas as pd\n",
    "import os\n",
    "import numpy as np\n",
    "from sklearn.linear_model import LogisticRegression\n",
    "from sklearn.metrics import accuracy_score, f1_score, confusion_matrix, recall_score\n"
   ]
  },
  {
   "cell_type": "code",
   "execution_count": 31,
   "metadata": {
    "colab": {},
    "colab_type": "code",
    "executionInfo": {
     "elapsed": 34394,
     "status": "ok",
     "timestamp": 1596897716710,
     "user": {
      "displayName": "Austin",
      "photoUrl": "https://lh3.googleusercontent.com/a-/AOh14GhaVUiRvQuYWy5qSitXZ_MLEn4pcMO4j38IZ7sJzA=s64",
      "userId": "10529859202551281440"
     },
     "user_tz": 240
    },
    "id": "jaMdPfIS9Btb"
   },
   "outputs": [
    {
     "data": {
      "text/html": [
       "<div>\n",
       "<style scoped>\n",
       "    .dataframe tbody tr th:only-of-type {\n",
       "        vertical-align: middle;\n",
       "    }\n",
       "\n",
       "    .dataframe tbody tr th {\n",
       "        vertical-align: top;\n",
       "    }\n",
       "\n",
       "    .dataframe thead th {\n",
       "        text-align: right;\n",
       "    }\n",
       "</style>\n",
       "<table border=\"1\" class=\"dataframe\">\n",
       "  <thead>\n",
       "    <tr style=\"text-align: right;\">\n",
       "      <th></th>\n",
       "      <th>Time</th>\n",
       "      <th>V1</th>\n",
       "      <th>V2</th>\n",
       "      <th>V3</th>\n",
       "      <th>V4</th>\n",
       "      <th>V5</th>\n",
       "      <th>V6</th>\n",
       "      <th>V7</th>\n",
       "      <th>V8</th>\n",
       "      <th>V9</th>\n",
       "      <th>...</th>\n",
       "      <th>V21</th>\n",
       "      <th>V22</th>\n",
       "      <th>V23</th>\n",
       "      <th>V24</th>\n",
       "      <th>V25</th>\n",
       "      <th>V26</th>\n",
       "      <th>V27</th>\n",
       "      <th>V28</th>\n",
       "      <th>Amount</th>\n",
       "      <th>Class</th>\n",
       "    </tr>\n",
       "  </thead>\n",
       "  <tbody>\n",
       "    <tr>\n",
       "      <th>0</th>\n",
       "      <td>0.0</td>\n",
       "      <td>-1.359807</td>\n",
       "      <td>-0.072781</td>\n",
       "      <td>2.536347</td>\n",
       "      <td>1.378155</td>\n",
       "      <td>-0.338321</td>\n",
       "      <td>0.462388</td>\n",
       "      <td>0.239599</td>\n",
       "      <td>0.098698</td>\n",
       "      <td>0.363787</td>\n",
       "      <td>...</td>\n",
       "      <td>-0.018307</td>\n",
       "      <td>0.277838</td>\n",
       "      <td>-0.110474</td>\n",
       "      <td>0.066928</td>\n",
       "      <td>0.128539</td>\n",
       "      <td>-0.189115</td>\n",
       "      <td>0.133558</td>\n",
       "      <td>-0.021053</td>\n",
       "      <td>149.62</td>\n",
       "      <td>0</td>\n",
       "    </tr>\n",
       "    <tr>\n",
       "      <th>1</th>\n",
       "      <td>0.0</td>\n",
       "      <td>1.191857</td>\n",
       "      <td>0.266151</td>\n",
       "      <td>0.166480</td>\n",
       "      <td>0.448154</td>\n",
       "      <td>0.060018</td>\n",
       "      <td>-0.082361</td>\n",
       "      <td>-0.078803</td>\n",
       "      <td>0.085102</td>\n",
       "      <td>-0.255425</td>\n",
       "      <td>...</td>\n",
       "      <td>-0.225775</td>\n",
       "      <td>-0.638672</td>\n",
       "      <td>0.101288</td>\n",
       "      <td>-0.339846</td>\n",
       "      <td>0.167170</td>\n",
       "      <td>0.125895</td>\n",
       "      <td>-0.008983</td>\n",
       "      <td>0.014724</td>\n",
       "      <td>2.69</td>\n",
       "      <td>0</td>\n",
       "    </tr>\n",
       "    <tr>\n",
       "      <th>2</th>\n",
       "      <td>1.0</td>\n",
       "      <td>-1.358354</td>\n",
       "      <td>-1.340163</td>\n",
       "      <td>1.773209</td>\n",
       "      <td>0.379780</td>\n",
       "      <td>-0.503198</td>\n",
       "      <td>1.800499</td>\n",
       "      <td>0.791461</td>\n",
       "      <td>0.247676</td>\n",
       "      <td>-1.514654</td>\n",
       "      <td>...</td>\n",
       "      <td>0.247998</td>\n",
       "      <td>0.771679</td>\n",
       "      <td>0.909412</td>\n",
       "      <td>-0.689281</td>\n",
       "      <td>-0.327642</td>\n",
       "      <td>-0.139097</td>\n",
       "      <td>-0.055353</td>\n",
       "      <td>-0.059752</td>\n",
       "      <td>378.66</td>\n",
       "      <td>0</td>\n",
       "    </tr>\n",
       "    <tr>\n",
       "      <th>3</th>\n",
       "      <td>1.0</td>\n",
       "      <td>-0.966272</td>\n",
       "      <td>-0.185226</td>\n",
       "      <td>1.792993</td>\n",
       "      <td>-0.863291</td>\n",
       "      <td>-0.010309</td>\n",
       "      <td>1.247203</td>\n",
       "      <td>0.237609</td>\n",
       "      <td>0.377436</td>\n",
       "      <td>-1.387024</td>\n",
       "      <td>...</td>\n",
       "      <td>-0.108300</td>\n",
       "      <td>0.005274</td>\n",
       "      <td>-0.190321</td>\n",
       "      <td>-1.175575</td>\n",
       "      <td>0.647376</td>\n",
       "      <td>-0.221929</td>\n",
       "      <td>0.062723</td>\n",
       "      <td>0.061458</td>\n",
       "      <td>123.50</td>\n",
       "      <td>0</td>\n",
       "    </tr>\n",
       "    <tr>\n",
       "      <th>4</th>\n",
       "      <td>2.0</td>\n",
       "      <td>-1.158233</td>\n",
       "      <td>0.877737</td>\n",
       "      <td>1.548718</td>\n",
       "      <td>0.403034</td>\n",
       "      <td>-0.407193</td>\n",
       "      <td>0.095921</td>\n",
       "      <td>0.592941</td>\n",
       "      <td>-0.270533</td>\n",
       "      <td>0.817739</td>\n",
       "      <td>...</td>\n",
       "      <td>-0.009431</td>\n",
       "      <td>0.798278</td>\n",
       "      <td>-0.137458</td>\n",
       "      <td>0.141267</td>\n",
       "      <td>-0.206010</td>\n",
       "      <td>0.502292</td>\n",
       "      <td>0.219422</td>\n",
       "      <td>0.215153</td>\n",
       "      <td>69.99</td>\n",
       "      <td>0</td>\n",
       "    </tr>\n",
       "  </tbody>\n",
       "</table>\n",
       "<p>5 rows × 31 columns</p>\n",
       "</div>"
      ],
      "text/plain": [
       "   Time        V1        V2        V3        V4        V5        V6        V7  \\\n",
       "0   0.0 -1.359807 -0.072781  2.536347  1.378155 -0.338321  0.462388  0.239599   \n",
       "1   0.0  1.191857  0.266151  0.166480  0.448154  0.060018 -0.082361 -0.078803   \n",
       "2   1.0 -1.358354 -1.340163  1.773209  0.379780 -0.503198  1.800499  0.791461   \n",
       "3   1.0 -0.966272 -0.185226  1.792993 -0.863291 -0.010309  1.247203  0.237609   \n",
       "4   2.0 -1.158233  0.877737  1.548718  0.403034 -0.407193  0.095921  0.592941   \n",
       "\n",
       "         V8        V9  ...       V21       V22       V23       V24       V25  \\\n",
       "0  0.098698  0.363787  ... -0.018307  0.277838 -0.110474  0.066928  0.128539   \n",
       "1  0.085102 -0.255425  ... -0.225775 -0.638672  0.101288 -0.339846  0.167170   \n",
       "2  0.247676 -1.514654  ...  0.247998  0.771679  0.909412 -0.689281 -0.327642   \n",
       "3  0.377436 -1.387024  ... -0.108300  0.005274 -0.190321 -1.175575  0.647376   \n",
       "4 -0.270533  0.817739  ... -0.009431  0.798278 -0.137458  0.141267 -0.206010   \n",
       "\n",
       "        V26       V27       V28  Amount  Class  \n",
       "0 -0.189115  0.133558 -0.021053  149.62      0  \n",
       "1  0.125895 -0.008983  0.014724    2.69      0  \n",
       "2 -0.139097 -0.055353 -0.059752  378.66      0  \n",
       "3 -0.221929  0.062723  0.061458  123.50      0  \n",
       "4  0.502292  0.219422  0.215153   69.99      0  \n",
       "\n",
       "[5 rows x 31 columns]"
      ]
     },
     "execution_count": 31,
     "metadata": {},
     "output_type": "execute_result"
    }
   ],
   "source": [
    "card_activity = pd.read_csv('creditcard.csv')\n",
    "card_activity.head()"
   ]
  },
  {
   "cell_type": "code",
   "execution_count": 33,
   "metadata": {
    "colab": {
     "base_uri": "https://localhost:8080/",
     "height": 479
    },
    "colab_type": "code",
    "executionInfo": {
     "elapsed": 28240,
     "status": "ok",
     "timestamp": 1596898460177,
     "user": {
      "displayName": "Austin",
      "photoUrl": "https://lh3.googleusercontent.com/a-/AOh14GhaVUiRvQuYWy5qSitXZ_MLEn4pcMO4j38IZ7sJzA=s64",
      "userId": "10529859202551281440"
     },
     "user_tz": 240
    },
    "id": "GUW3ZUcN-FbL",
    "outputId": "8f9dc319-df6f-41e5-9167-6adedd3d9461"
   },
   "outputs": [
    {
     "name": "stdout",
     "output_type": "stream",
     "text": [
      "<class 'pandas.core.frame.DataFrame'>\n",
      "RangeIndex: 284807 entries, 0 to 284806\n",
      "Data columns (total 31 columns):\n",
      " #   Column  Non-Null Count   Dtype  \n",
      "---  ------  --------------   -----  \n",
      " 0   Time    284807 non-null  float64\n",
      " 1   V1      284807 non-null  float64\n",
      " 2   V2      284807 non-null  float64\n",
      " 3   V3      284807 non-null  float64\n",
      " 4   V4      284807 non-null  float64\n",
      " 5   V5      284807 non-null  float64\n",
      " 6   V6      284807 non-null  float64\n",
      " 7   V7      284807 non-null  float64\n",
      " 8   V8      284807 non-null  float64\n",
      " 9   V9      284807 non-null  float64\n",
      " 10  V10     284807 non-null  float64\n",
      " 11  V11     284807 non-null  float64\n",
      " 12  V12     284807 non-null  float64\n",
      " 13  V13     284807 non-null  float64\n",
      " 14  V14     284807 non-null  float64\n",
      " 15  V15     284807 non-null  float64\n",
      " 16  V16     284807 non-null  float64\n",
      " 17  V17     284807 non-null  float64\n",
      " 18  V18     284807 non-null  float64\n",
      " 19  V19     284807 non-null  float64\n",
      " 20  V20     284807 non-null  float64\n",
      " 21  V21     284807 non-null  float64\n",
      " 22  V22     284807 non-null  float64\n",
      " 23  V23     284807 non-null  float64\n",
      " 24  V24     284807 non-null  float64\n",
      " 25  V25     284807 non-null  float64\n",
      " 26  V26     284807 non-null  float64\n",
      " 27  V27     284807 non-null  float64\n",
      " 28  V28     284807 non-null  float64\n",
      " 29  Amount  284807 non-null  float64\n",
      " 30  Class   284807 non-null  int64  \n",
      "dtypes: float64(30), int64(1)\n",
      "memory usage: 67.4 MB\n"
     ]
    }
   ],
   "source": [
    "card_activity.info()"
   ]
  },
  {
   "cell_type": "code",
   "execution_count": 34,
   "metadata": {
    "colab": {
     "base_uri": "https://localhost:8080/",
     "height": 578
    },
    "colab_type": "code",
    "executionInfo": {
     "elapsed": 775,
     "status": "ok",
     "timestamp": 1596898570357,
     "user": {
      "displayName": "Austin",
      "photoUrl": "https://lh3.googleusercontent.com/a-/AOh14GhaVUiRvQuYWy5qSitXZ_MLEn4pcMO4j38IZ7sJzA=s64",
      "userId": "10529859202551281440"
     },
     "user_tz": 240
    },
    "id": "89xPR49P9670",
    "outputId": "64677313-3e56-42ef-9ff9-eb075fa8b195"
   },
   "outputs": [
    {
     "data": {
      "text/plain": [
       "0         0\n",
       "1         0\n",
       "2         0\n",
       "3         0\n",
       "4         0\n",
       "         ..\n",
       "284802    0\n",
       "284803    0\n",
       "284804    0\n",
       "284805    0\n",
       "284806    0\n",
       "Name: Class, Length: 284807, dtype: int64"
      ]
     },
     "execution_count": 34,
     "metadata": {},
     "output_type": "execute_result"
    }
   ],
   "source": [
    "X =card_activity.drop(columns=['Time', 'Class'])\n",
    "y= card_activity['Class']\n",
    "y"
   ]
  },
  {
   "cell_type": "code",
   "execution_count": 35,
   "metadata": {
    "colab": {
     "base_uri": "https://localhost:8080/",
     "height": 34
    },
    "colab_type": "code",
    "executionInfo": {
     "elapsed": 1268,
     "status": "ok",
     "timestamp": 1596898644501,
     "user": {
      "displayName": "Austin",
      "photoUrl": "https://lh3.googleusercontent.com/a-/AOh14GhaVUiRvQuYWy5qSitXZ_MLEn4pcMO4j38IZ7sJzA=s64",
      "userId": "10529859202551281440"
     },
     "user_tz": 240
    },
    "id": "K0JLwrZFlb4L",
    "outputId": "6efae37d-11b8-4f04-c48d-48eb58860102"
   },
   "outputs": [
    {
     "name": "stdout",
     "output_type": "stream",
     "text": [
      "(284807, 29) (284807,)\n"
     ]
    }
   ],
   "source": [
    "print(X.shape, y.shape)"
   ]
  },
  {
   "cell_type": "code",
   "execution_count": 36,
   "metadata": {
    "colab": {
     "base_uri": "https://localhost:8080/",
     "height": 34
    },
    "colab_type": "code",
    "executionInfo": {
     "elapsed": 755,
     "status": "ok",
     "timestamp": 1596898648169,
     "user": {
      "displayName": "Austin",
      "photoUrl": "https://lh3.googleusercontent.com/a-/AOh14GhaVUiRvQuYWy5qSitXZ_MLEn4pcMO4j38IZ7sJzA=s64",
      "userId": "10529859202551281440"
     },
     "user_tz": 240
    },
    "id": "gk2EOKd7oSwp",
    "outputId": "a0aec055-89e3-46c7-af0c-b17143173aa4"
   },
   "outputs": [
    {
     "data": {
      "text/plain": [
       "0    284315\n",
       "1       492\n",
       "Name: Class, dtype: int64"
      ]
     },
     "execution_count": 36,
     "metadata": {},
     "output_type": "execute_result"
    }
   ],
   "source": [
    "card_activity['Class'].value_counts()"
   ]
  },
  {
   "cell_type": "code",
   "execution_count": 37,
   "metadata": {
    "colab": {
     "base_uri": "https://localhost:8080/",
     "height": 34
    },
    "colab_type": "code",
    "executionInfo": {
     "elapsed": 1289,
     "status": "ok",
     "timestamp": 1596898654197,
     "user": {
      "displayName": "Austin",
      "photoUrl": "https://lh3.googleusercontent.com/a-/AOh14GhaVUiRvQuYWy5qSitXZ_MLEn4pcMO4j38IZ7sJzA=s64",
      "userId": "10529859202551281440"
     },
     "user_tz": 240
    },
    "id": "IhX8nvuCo0WL",
    "outputId": "90cccced-cdc6-4189-ddbd-a8a69f6e2086"
   },
   "outputs": [],
   "source": [
    "#separate 'training' and 'testing' data\n",
    "from sklearn.model_selection import train_test_split\n",
    "\n",
    "X_train, X_test, y_train, y_test = train_test_split(X, y, random_state=1)"
   ]
  },
  {
   "cell_type": "code",
   "execution_count": 38,
   "metadata": {
    "colab": {
     "base_uri": "https://localhost:8080/",
     "height": 462
    },
    "colab_type": "code",
    "executionInfo": {
     "elapsed": 1001,
     "status": "ok",
     "timestamp": 1596898660653,
     "user": {
      "displayName": "Austin",
      "photoUrl": "https://lh3.googleusercontent.com/a-/AOh14GhaVUiRvQuYWy5qSitXZ_MLEn4pcMO4j38IZ7sJzA=s64",
      "userId": "10529859202551281440"
     },
     "user_tz": 240
    },
    "id": "LxyIDoZco7s3",
    "outputId": "89d9517b-4866-4479-f8c2-6e894e6cc01e"
   },
   "outputs": [
    {
     "name": "stdout",
     "output_type": "stream",
     "text": [
      "[0 1] [213224    381]\n"
     ]
    }
   ],
   "source": [
    "unique_ytrain, counts_ytrain = np.unique(y_train, return_counts=True)\n",
    "print(unique_ytrain,counts_ytrain)"
   ]
  },
  {
   "cell_type": "code",
   "execution_count": 39,
   "metadata": {
    "colab": {
     "base_uri": "https://localhost:8080/",
     "height": 479
    },
    "colab_type": "code",
    "executionInfo": {
     "elapsed": 990,
     "status": "ok",
     "timestamp": 1596898665586,
     "user": {
      "displayName": "Austin",
      "photoUrl": "https://lh3.googleusercontent.com/a-/AOh14GhaVUiRvQuYWy5qSitXZ_MLEn4pcMO4j38IZ7sJzA=s64",
      "userId": "10529859202551281440"
     },
     "user_tz": 240
    },
    "id": "U-s020_7paKI",
    "outputId": "df27e50b-61a0-486e-d7cd-641929a1759a"
   },
   "outputs": [
    {
     "name": "stdout",
     "output_type": "stream",
     "text": [
      "[0 1] [71091   111]\n"
     ]
    }
   ],
   "source": [
    "unique_ytest, counts_ytest = np.unique(y_test, return_counts=True)\n",
    "print(unique_ytest,counts_ytest)"
   ]
  },
  {
   "cell_type": "code",
   "execution_count": 40,
   "metadata": {
    "colab": {},
    "colab_type": "code",
    "id": "CdEBL4D5uUu0"
   },
   "outputs": [
    {
     "name": "stdout",
     "output_type": "stream",
     "text": [
      "percentage of positive values in the training sample: 0.17836661126846282\n",
      "percentage of positive values in the test sample: 0.15589449734558017\n"
     ]
    }
   ],
   "source": [
    "print('percentage of positive values in the training sample:', counts_ytrain[1]*100/(counts_ytrain[1]+counts_ytrain[0]))\n",
    "print('percentage of positive values in the test sample:', counts_ytest[1]*100/(counts_ytest[1]+counts_ytest[0]))"
   ]
  },
  {
   "cell_type": "code",
   "execution_count": 41,
   "metadata": {},
   "outputs": [
    {
     "name": "stdout",
     "output_type": "stream",
     "text": [
      "(426448, 29) (426448,)\n"
     ]
    }
   ],
   "source": [
    "#///////////////////////////////////////////////////////////////////////////////////\n",
    "#Since the sample is biased towards non-fraud transactions resampling is necessary\n",
    "#use the resample package from sklearn\n",
    "#the resampling should be done after splitting the test and train samples to avoid \n",
    "#having the same rows in both test and train samples\n",
    "#//////////////////////////////////////////////////////////////////////////////////\n",
    "from sklearn.utils import resample\n",
    "\n",
    "#Now let's create a new test data sample by combining the X_tarin and y_train samples\n",
    "#and separate fraud and non-fraud transactions\n",
    "Xy_train = pd.concat([X_train, y_train], axis=1)\n",
    "\n",
    "non_fraud = Xy_train[Xy_train['Class']==0]\n",
    "fraud = Xy_train[Xy_train['Class']==1]\n",
    "\n",
    "# upsample fraud transactions\n",
    "\n",
    "fraud_new = resample(fraud,replace=True, # if true Implements resampling with replacement\n",
    "                          n_samples=len(non_fraud), # no. of samples\n",
    "                          random_state=1)\n",
    "\n",
    "# now combine and create a train sample with eqaul no. of fraud and non-fraud transactions\n",
    "Xy_train_new = pd.concat([non_fraud, fraud_new])\n",
    "\n",
    "#split back X and y\n",
    "X_train_new = Xy_train_new.drop('Class',axis=1)\n",
    "y_train_new = Xy_train_new['Class']\n",
    "print(X_train_new.shape, y_train_new.shape)"
   ]
  },
  {
   "cell_type": "code",
   "execution_count": 42,
   "metadata": {},
   "outputs": [
    {
     "data": {
      "text/plain": [
       "LogisticRegression(C=1.0, class_weight=None, dual=False, fit_intercept=True,\n",
       "                   intercept_scaling=1, l1_ratio=None, max_iter=500,\n",
       "                   multi_class='auto', n_jobs=None, penalty='l2',\n",
       "                   random_state=None, solver='lbfgs', tol=0.0001, verbose=0,\n",
       "                   warm_start=False)"
      ]
     },
     "execution_count": 42,
     "metadata": {},
     "output_type": "execute_result"
    }
   ],
   "source": [
    "#Logistic Regression (lbfgs)\n",
    "from sklearn.linear_model import LogisticRegression\n",
    "classifier = LogisticRegression(max_iter=500)#default=100 \n",
    "classifier"
   ]
  },
  {
   "cell_type": "code",
   "execution_count": 55,
   "metadata": {},
   "outputs": [],
   "source": [
    "#scaling\n",
    "from sklearn.preprocessing import MinMaxScaler\n",
    "X_scale = MinMaxScaler().fit(X_train_new)\n",
    "\n",
    "X_train_scaled = X_scale.transform(X_train_new)\n",
    "X_test_scaled = X_scale.transform(X_test)\n",
    "np.savetxt(\"X_train_scaled.csv\", X_train_scaled, delimiter=\",\")\n",
    "np.savetxt(\"y_train_new.csv\", y_train_new, delimiter=\",\")\n",
    "np.savetxt(\"X_test_scaled.csv\", X_test_scaled, delimiter=\",\")\n",
    "np.savetxt(\"y_test.csv\", y_test, delimiter=\",\")"
   ]
  },
  {
   "cell_type": "code",
   "execution_count": 44,
   "metadata": {},
   "outputs": [],
   "source": [
    "#fit\n",
    "model = classifier.fit(X_train_scaled, y_train_new)"
   ]
  },
  {
   "cell_type": "code",
   "execution_count": 45,
   "metadata": {},
   "outputs": [
    {
     "name": "stdout",
     "output_type": "stream",
     "text": [
      "              precision    recall  f1-score   support\n",
      "\n",
      "           0       1.00      0.98      0.99     71091\n",
      "           1       0.08      0.86      0.14       111\n",
      "\n",
      "    accuracy                           0.98     71202\n",
      "   macro avg       0.54      0.92      0.57     71202\n",
      "weighted avg       1.00      0.98      0.99     71202\n",
      "\n"
     ]
    }
   ],
   "source": [
    "from sklearn.metrics import classification_report\n",
    "predictions = model.predict(X_test_scaled)\n",
    "predictions\n",
    "print(classification_report(y_test, predictions))"
   ]
  },
  {
   "cell_type": "code",
   "execution_count": 46,
   "metadata": {},
   "outputs": [
    {
     "data": {
      "text/plain": [
       "GridSearchCV(cv=5, error_score=nan,\n",
       "             estimator=LogisticRegression(C=1.0, class_weight=None, dual=False,\n",
       "                                          fit_intercept=True,\n",
       "                                          intercept_scaling=1, l1_ratio=None,\n",
       "                                          max_iter=500, multi_class='auto',\n",
       "                                          n_jobs=None, penalty='l2',\n",
       "                                          random_state=None, solver='lbfgs',\n",
       "                                          tol=0.0001, verbose=0,\n",
       "                                          warm_start=False),\n",
       "             iid='deprecated', n_jobs=None,\n",
       "             param_grid={'C': array([1.        , 1.01181716, 1.02...\n",
       "       1.34137751, 1.35722878, 1.37326737, 1.38949549, 1.40591539,\n",
       "       1.42252931, 1.43933957, 1.45634848, 1.47355838, 1.49097166,\n",
       "       1.50859071, 1.52641797, 1.54445589, 1.56270698, 1.58117374,\n",
       "       1.59985872, 1.61876451, 1.63789371, 1.65724896, 1.67683294,\n",
       "       1.69664834, 1.71669791, 1.7369844 , 1.75751062, 1.77827941])},\n",
       "             pre_dispatch='2*n_jobs', refit=True, return_train_score=False,\n",
       "             scoring=None, verbose=3)"
      ]
     },
     "execution_count": 46,
     "metadata": {},
     "output_type": "execute_result"
    }
   ],
   "source": [
    "#try grid search\n",
    "from sklearn.model_selection import GridSearchCV\n",
    "C = np.logspace(0,0.25) #did not converge when C is closer to 10\n",
    "grid = GridSearchCV(classifier, dict(C=C),cv=5, verbose=3)\n",
    "grid"
   ]
  },
  {
   "cell_type": "code",
   "execution_count": 47,
   "metadata": {},
   "outputs": [
    {
     "name": "stdout",
     "output_type": "stream",
     "text": [
      "Fitting 5 folds for each of 50 candidates, totalling 250 fits\n",
      "[CV] C=1.0 ...........................................................\n"
     ]
    },
    {
     "name": "stderr",
     "output_type": "stream",
     "text": [
      "[Parallel(n_jobs=1)]: Using backend SequentialBackend with 1 concurrent workers.\n"
     ]
    },
    {
     "name": "stdout",
     "output_type": "stream",
     "text": [
      "[CV] ............................... C=1.0, score=0.952, total=  12.8s\n",
      "[CV] C=1.0 ...........................................................\n"
     ]
    },
    {
     "name": "stderr",
     "output_type": "stream",
     "text": [
      "[Parallel(n_jobs=1)]: Done   1 out of   1 | elapsed:   12.8s remaining:    0.0s\n"
     ]
    },
    {
     "name": "stdout",
     "output_type": "stream",
     "text": [
      "[CV] ............................... C=1.0, score=0.953, total=   8.6s\n",
      "[CV] C=1.0 ...........................................................\n"
     ]
    },
    {
     "name": "stderr",
     "output_type": "stream",
     "text": [
      "[Parallel(n_jobs=1)]: Done   2 out of   2 | elapsed:   21.4s remaining:    0.0s\n"
     ]
    },
    {
     "name": "stdout",
     "output_type": "stream",
     "text": [
      "[CV] ............................... C=1.0, score=0.953, total=  11.8s\n",
      "[CV] C=1.0 ...........................................................\n",
      "[CV] ............................... C=1.0, score=0.952, total=  10.8s\n",
      "[CV] C=1.0 ...........................................................\n",
      "[CV] ............................... C=1.0, score=0.951, total=  11.8s\n",
      "[CV] C=1.0118171605283166 ............................................\n",
      "[CV] ................ C=1.0118171605283166, score=0.952, total=   9.6s\n",
      "[CV] C=1.0118171605283166 ............................................\n",
      "[CV] ................ C=1.0118171605283166, score=0.953, total=   6.3s\n",
      "[CV] C=1.0118171605283166 ............................................\n",
      "[CV] ................ C=1.0118171605283166, score=0.953, total=  17.4s\n",
      "[CV] C=1.0118171605283166 ............................................\n",
      "[CV] ................ C=1.0118171605283166, score=0.952, total=  17.3s\n",
      "[CV] C=1.0118171605283166 ............................................\n",
      "[CV] ................ C=1.0118171605283166, score=0.951, total=  11.3s\n",
      "[CV] C=1.023773966339585 .............................................\n",
      "[CV] ................. C=1.023773966339585, score=0.952, total=  12.8s\n",
      "[CV] C=1.023773966339585 .............................................\n",
      "[CV] ................. C=1.023773966339585, score=0.953, total=   9.2s\n",
      "[CV] C=1.023773966339585 .............................................\n",
      "[CV] ................. C=1.023773966339585, score=0.953, total=  12.9s\n",
      "[CV] C=1.023773966339585 .............................................\n",
      "[CV] ................. C=1.023773966339585, score=0.952, total=  11.0s\n",
      "[CV] C=1.023773966339585 .............................................\n",
      "[CV] ................. C=1.023773966339585, score=0.951, total=   9.5s\n",
      "[CV] C=1.0358720676445312 ............................................\n",
      "[CV] ................ C=1.0358720676445312, score=0.952, total=  11.7s\n",
      "[CV] C=1.0358720676445312 ............................................\n",
      "[CV] ................ C=1.0358720676445312, score=0.953, total=  13.4s\n",
      "[CV] C=1.0358720676445312 ............................................\n",
      "[CV] ................ C=1.0358720676445312, score=0.953, total=  11.6s\n",
      "[CV] C=1.0358720676445312 ............................................\n",
      "[CV] ................ C=1.0358720676445312, score=0.952, total=  10.7s\n",
      "[CV] C=1.0358720676445312 ............................................\n",
      "[CV] ................ C=1.0358720676445312, score=0.951, total=  11.9s\n",
      "[CV] C=1.0481131341546857 ............................................\n",
      "[CV] ................ C=1.0481131341546857, score=0.952, total=  10.5s\n",
      "[CV] C=1.0481131341546857 ............................................\n",
      "[CV] ................ C=1.0481131341546857, score=0.953, total=   9.8s\n",
      "[CV] C=1.0481131341546857 ............................................\n",
      "[CV] ................ C=1.0481131341546857, score=0.953, total=  14.2s\n",
      "[CV] C=1.0481131341546857 ............................................\n",
      "[CV] ................ C=1.0481131341546857, score=0.952, total=  18.2s\n",
      "[CV] C=1.0481131341546857 ............................................\n",
      "[CV] ................ C=1.0481131341546857, score=0.951, total=  15.2s\n",
      "[CV] C=1.0604988553128285 ............................................\n",
      "[CV] ................ C=1.0604988553128285, score=0.952, total=  11.8s\n",
      "[CV] C=1.0604988553128285 ............................................\n",
      "[CV] ................ C=1.0604988553128285, score=0.953, total=  11.7s\n",
      "[CV] C=1.0604988553128285 ............................................\n",
      "[CV] ................ C=1.0604988553128285, score=0.953, total=   9.7s\n",
      "[CV] C=1.0604988553128285 ............................................\n",
      "[CV] ................ C=1.0604988553128285, score=0.952, total=   7.6s\n",
      "[CV] C=1.0604988553128285 ............................................\n",
      "[CV] ................ C=1.0604988553128285, score=0.951, total=  10.1s\n",
      "[CV] C=1.0730309405261562 ............................................\n",
      "[CV] ................ C=1.0730309405261562, score=0.952, total=   9.9s\n",
      "[CV] C=1.0730309405261562 ............................................\n",
      "[CV] ................ C=1.0730309405261562, score=0.953, total=   9.4s\n",
      "[CV] C=1.0730309405261562 ............................................\n",
      "[CV] ................ C=1.0730309405261562, score=0.953, total=  12.4s\n",
      "[CV] C=1.0730309405261562 ............................................\n",
      "[CV] ................ C=1.0730309405261562, score=0.952, total=   9.3s\n",
      "[CV] C=1.0730309405261562 ............................................\n",
      "[CV] ................ C=1.0730309405261562, score=0.951, total=   9.5s\n",
      "[CV] C=1.0857111194022042 ............................................\n",
      "[CV] ................ C=1.0857111194022042, score=0.952, total=   9.2s\n",
      "[CV] C=1.0857111194022042 ............................................\n",
      "[CV] ................ C=1.0857111194022042, score=0.953, total=   9.9s\n",
      "[CV] C=1.0857111194022042 ............................................\n",
      "[CV] ................ C=1.0857111194022042, score=0.953, total=  10.9s\n",
      "[CV] C=1.0857111194022042 ............................................\n",
      "[CV] ................ C=1.0857111194022042, score=0.952, total=  10.5s\n",
      "[CV] C=1.0857111194022042 ............................................\n",
      "[CV] ................ C=1.0857111194022042, score=0.952, total=  11.2s\n",
      "[CV] C=1.0985411419875581 ............................................\n",
      "[CV] ................ C=1.0985411419875581, score=0.952, total=  11.2s\n",
      "[CV] C=1.0985411419875581 ............................................\n",
      "[CV] ................ C=1.0985411419875581, score=0.953, total=  11.1s\n",
      "[CV] C=1.0985411419875581 ............................................\n",
      "[CV] ................ C=1.0985411419875581, score=0.953, total=  11.3s\n",
      "[CV] C=1.0985411419875581 ............................................\n",
      "[CV] ................ C=1.0985411419875581, score=0.952, total=   9.3s\n",
      "[CV] C=1.0985411419875581 ............................................\n",
      "[CV] ................ C=1.0985411419875581, score=0.951, total=   9.5s\n",
      "[CV] C=1.1115227790093853 ............................................\n",
      "[CV] ................ C=1.1115227790093853, score=0.952, total=   7.2s\n",
      "[CV] C=1.1115227790093853 ............................................\n",
      "[CV] ................ C=1.1115227790093853, score=0.953, total=  16.0s\n",
      "[CV] C=1.1115227790093853 ............................................\n",
      "[CV] ................ C=1.1115227790093853, score=0.953, total=  11.9s\n",
      "[CV] C=1.1115227790093853 ............................................\n",
      "[CV] ................ C=1.1115227790093853, score=0.952, total=   7.0s\n",
      "[CV] C=1.1115227790093853 ............................................\n",
      "[CV] ................ C=1.1115227790093853, score=0.951, total=   8.8s\n",
      "[CV] C=1.1246578221198198 ............................................\n",
      "[CV] ................ C=1.1246578221198198, score=0.952, total=  13.2s\n",
      "[CV] C=1.1246578221198198 ............................................\n",
      "[CV] ................ C=1.1246578221198198, score=0.953, total=   8.2s\n",
      "[CV] C=1.1246578221198198 ............................................\n",
      "[CV] ................ C=1.1246578221198198, score=0.953, total=  15.0s\n",
      "[CV] C=1.1246578221198198 ............................................\n",
      "[CV] ................ C=1.1246578221198198, score=0.952, total=  12.0s\n",
      "[CV] C=1.1246578221198198 ............................................\n",
      "[CV] ................ C=1.1246578221198198, score=0.952, total=  14.1s\n",
      "[CV] C=1.1379480841432366 ............................................\n",
      "[CV] ................ C=1.1379480841432366, score=0.952, total=  13.1s\n",
      "[CV] C=1.1379480841432366 ............................................\n",
      "[CV] ................ C=1.1379480841432366, score=0.953, total=  14.7s\n",
      "[CV] C=1.1379480841432366 ............................................\n",
      "[CV] ................ C=1.1379480841432366, score=0.953, total=  14.3s\n",
      "[CV] C=1.1379480841432366 ............................................\n",
      "[CV] ................ C=1.1379480841432366, score=0.952, total=  13.5s\n",
      "[CV] C=1.1379480841432366 ............................................\n",
      "[CV] ................ C=1.1379480841432366, score=0.952, total=  13.1s\n",
      "[CV] C=1.1513953993264474 ............................................\n"
     ]
    },
    {
     "name": "stdout",
     "output_type": "stream",
     "text": [
      "[CV] ................ C=1.1513953993264474, score=0.952, total=  13.4s\n",
      "[CV] C=1.1513953993264474 ............................................\n",
      "[CV] ................ C=1.1513953993264474, score=0.953, total=  13.7s\n",
      "[CV] C=1.1513953993264474 ............................................\n",
      "[CV] ................ C=1.1513953993264474, score=0.953, total=  14.4s\n",
      "[CV] C=1.1513953993264474 ............................................\n",
      "[CV] ................ C=1.1513953993264474, score=0.952, total=  12.5s\n",
      "[CV] C=1.1513953993264474 ............................................\n",
      "[CV] ................ C=1.1513953993264474, score=0.952, total=   8.7s\n",
      "[CV] C=1.165001623591853 .............................................\n",
      "[CV] ................. C=1.165001623591853, score=0.952, total=  13.9s\n",
      "[CV] C=1.165001623591853 .............................................\n",
      "[CV] ................. C=1.165001623591853, score=0.953, total=  10.6s\n",
      "[CV] C=1.165001623591853 .............................................\n",
      "[CV] ................. C=1.165001623591853, score=0.952, total=  14.2s\n",
      "[CV] C=1.165001623591853 .............................................\n",
      "[CV] ................. C=1.165001623591853, score=0.952, total=  15.1s\n",
      "[CV] C=1.165001623591853 .............................................\n",
      "[CV] ................. C=1.165001623591853, score=0.952, total=  11.8s\n",
      "[CV] C=1.1787686347935873 ............................................\n",
      "[CV] ................ C=1.1787686347935873, score=0.952, total=  13.6s\n",
      "[CV] C=1.1787686347935873 ............................................\n",
      "[CV] ................ C=1.1787686347935873, score=0.953, total=  12.8s\n",
      "[CV] C=1.1787686347935873 ............................................\n",
      "[CV] ................ C=1.1787686347935873, score=0.952, total=  12.3s\n",
      "[CV] C=1.1787686347935873 ............................................\n",
      "[CV] ................ C=1.1787686347935873, score=0.952, total=  11.8s\n",
      "[CV] C=1.1787686347935873 ............................................\n",
      "[CV] ................ C=1.1787686347935873, score=0.952, total=   7.1s\n",
      "[CV] C=1.1926983329766876 ............................................\n",
      "[CV] ................ C=1.1926983329766876, score=0.952, total=  14.0s\n",
      "[CV] C=1.1926983329766876 ............................................\n",
      "[CV] ................ C=1.1926983329766876, score=0.953, total=  11.2s\n",
      "[CV] C=1.1926983329766876 ............................................\n",
      "[CV] ................ C=1.1926983329766876, score=0.952, total=  10.8s\n",
      "[CV] C=1.1926983329766876 ............................................\n",
      "[CV] ................ C=1.1926983329766876, score=0.952, total=  10.7s\n",
      "[CV] C=1.1926983329766876 ............................................\n",
      "[CV] ................ C=1.1926983329766876, score=0.951, total=  11.7s\n",
      "[CV] C=1.2067926406393286 ............................................\n",
      "[CV] ................ C=1.2067926406393286, score=0.952, total=  13.0s\n",
      "[CV] C=1.2067926406393286 ............................................\n",
      "[CV] ................ C=1.2067926406393286, score=0.953, total=  10.3s\n",
      "[CV] C=1.2067926406393286 ............................................\n",
      "[CV] ................ C=1.2067926406393286, score=0.953, total=  14.2s\n",
      "[CV] C=1.2067926406393286 ............................................\n",
      "[CV] ................ C=1.2067926406393286, score=0.952, total=  13.1s\n",
      "[CV] C=1.2067926406393286 ............................................\n",
      "[CV] ................ C=1.2067926406393286, score=0.952, total=  11.3s\n",
      "[CV] C=1.2210535029981546 ............................................\n",
      "[CV] ................ C=1.2210535029981546, score=0.952, total=  11.1s\n",
      "[CV] C=1.2210535029981546 ............................................\n",
      "[CV] ................ C=1.2210535029981546, score=0.953, total=  12.1s\n",
      "[CV] C=1.2210535029981546 ............................................\n",
      "[CV] ................ C=1.2210535029981546, score=0.952, total=  12.6s\n",
      "[CV] C=1.2210535029981546 ............................................\n",
      "[CV] ................ C=1.2210535029981546, score=0.952, total=  13.9s\n",
      "[CV] C=1.2210535029981546 ............................................\n",
      "[CV] ................ C=1.2210535029981546, score=0.952, total=  13.3s\n",
      "[CV] C=1.235482888256747 .............................................\n",
      "[CV] ................. C=1.235482888256747, score=0.952, total=  11.5s\n",
      "[CV] C=1.235482888256747 .............................................\n",
      "[CV] ................. C=1.235482888256747, score=0.953, total=  12.9s\n",
      "[CV] C=1.235482888256747 .............................................\n",
      "[CV] ................. C=1.235482888256747, score=0.952, total=  14.0s\n",
      "[CV] C=1.235482888256747 .............................................\n",
      "[CV] ................. C=1.235482888256747, score=0.952, total=  13.7s\n",
      "[CV] C=1.235482888256747 .............................................\n",
      "[CV] ................. C=1.235482888256747, score=0.952, total=  14.0s\n",
      "[CV] C=1.2500827878772651 ............................................\n",
      "[CV] ................ C=1.2500827878772651, score=0.952, total=  14.8s\n",
      "[CV] C=1.2500827878772651 ............................................\n",
      "[CV] ................ C=1.2500827878772651, score=0.953, total=  12.0s\n",
      "[CV] C=1.2500827878772651 ............................................\n",
      "[CV] ................ C=1.2500827878772651, score=0.952, total=  12.8s\n",
      "[CV] C=1.2500827878772651 ............................................\n",
      "[CV] ................ C=1.2500827878772651, score=0.952, total=  15.3s\n",
      "[CV] C=1.2500827878772651 ............................................\n",
      "[CV] ................ C=1.2500827878772651, score=0.952, total=  15.9s\n",
      "[CV] C=1.264855216855296 .............................................\n",
      "[CV] ................. C=1.264855216855296, score=0.952, total=  15.4s\n",
      "[CV] C=1.264855216855296 .............................................\n",
      "[CV] ................. C=1.264855216855296, score=0.953, total=  13.2s\n",
      "[CV] C=1.264855216855296 .............................................\n",
      "[CV] ................. C=1.264855216855296, score=0.952, total=  12.6s\n",
      "[CV] C=1.264855216855296 .............................................\n",
      "[CV] ................. C=1.264855216855296, score=0.952, total=  16.7s\n",
      "[CV] C=1.264855216855296 .............................................\n",
      "[CV] ................. C=1.264855216855296, score=0.952, total=  17.6s\n",
      "[CV] C=1.2798022139979537 ............................................\n",
      "[CV] ................ C=1.2798022139979537, score=0.952, total=  14.7s\n",
      "[CV] C=1.2798022139979537 ............................................\n",
      "[CV] ................ C=1.2798022139979537, score=0.953, total=  15.7s\n",
      "[CV] C=1.2798022139979537 ............................................\n",
      "[CV] ................ C=1.2798022139979537, score=0.952, total=  14.1s\n",
      "[CV] C=1.2798022139979537 ............................................\n",
      "[CV] ................ C=1.2798022139979537, score=0.952, total=  16.3s\n",
      "[CV] C=1.2798022139979537 ............................................\n",
      "[CV] ................ C=1.2798022139979537, score=0.952, total=  18.1s\n",
      "[CV] C=1.2949258422052623 ............................................\n",
      "[CV] ................ C=1.2949258422052623, score=0.952, total=  25.4s\n",
      "[CV] C=1.2949258422052623 ............................................\n",
      "[CV] ................ C=1.2949258422052623, score=0.953, total=  20.6s\n",
      "[CV] C=1.2949258422052623 ............................................\n",
      "[CV] ................ C=1.2949258422052623, score=0.952, total=  19.6s\n",
      "[CV] C=1.2949258422052623 ............................................\n",
      "[CV] ................ C=1.2949258422052623, score=0.952, total=  21.2s\n",
      "[CV] C=1.2949258422052623 ............................................\n",
      "[CV] ................ C=1.2949258422052623, score=0.952, total=  26.1s\n",
      "[CV] C=1.3102281887548675 ............................................\n",
      "[CV] ................ C=1.3102281887548675, score=0.952, total=  20.3s\n",
      "[CV] C=1.3102281887548675 ............................................\n",
      "[CV] ................ C=1.3102281887548675, score=0.953, total=  21.7s\n",
      "[CV] C=1.3102281887548675 ............................................\n",
      "[CV] ................ C=1.3102281887548675, score=0.952, total=  29.7s\n",
      "[CV] C=1.3102281887548675 ............................................\n"
     ]
    },
    {
     "name": "stdout",
     "output_type": "stream",
     "text": [
      "[CV] ................ C=1.3102281887548675, score=0.952, total=  20.7s\n",
      "[CV] C=1.3102281887548675 ............................................\n",
      "[CV] ................ C=1.3102281887548675, score=0.952, total=  17.9s\n",
      "[CV] C=1.3257113655901092 ............................................\n",
      "[CV] ................ C=1.3257113655901092, score=0.952, total=  26.8s\n",
      "[CV] C=1.3257113655901092 ............................................\n",
      "[CV] ................ C=1.3257113655901092, score=0.953, total=  16.9s\n",
      "[CV] C=1.3257113655901092 ............................................\n",
      "[CV] ................ C=1.3257113655901092, score=0.952, total=  18.7s\n",
      "[CV] C=1.3257113655901092 ............................................\n",
      "[CV] ................ C=1.3257113655901092, score=0.952, total=  23.6s\n",
      "[CV] C=1.3257113655901092 ............................................\n",
      "[CV] ................ C=1.3257113655901092, score=0.952, total=  19.1s\n",
      "[CV] C=1.341377509611501 .............................................\n",
      "[CV] ................. C=1.341377509611501, score=0.952, total=  20.6s\n",
      "[CV] C=1.341377509611501 .............................................\n",
      "[CV] ................. C=1.341377509611501, score=0.953, total=  24.5s\n",
      "[CV] C=1.341377509611501 .............................................\n",
      "[CV] ................. C=1.341377509611501, score=0.952, total=  25.4s\n",
      "[CV] C=1.341377509611501 .............................................\n",
      "[CV] ................. C=1.341377509611501, score=0.952, total=  23.1s\n",
      "[CV] C=1.341377509611501 .............................................\n",
      "[CV] ................. C=1.341377509611501, score=0.952, total=  12.4s\n",
      "[CV] C=1.3572287829716536 ............................................\n",
      "[CV] ................ C=1.3572287829716536, score=0.952, total=  20.3s\n",
      "[CV] C=1.3572287829716536 ............................................\n",
      "[CV] ................ C=1.3572287829716536, score=0.953, total=  16.1s\n",
      "[CV] C=1.3572287829716536 ............................................\n",
      "[CV] ................ C=1.3572287829716536, score=0.952, total=  15.0s\n",
      "[CV] C=1.3572287829716536 ............................................\n",
      "[CV] ................ C=1.3572287829716536, score=0.952, total=  14.8s\n",
      "[CV] C=1.3572287829716536 ............................................\n",
      "[CV] ................ C=1.3572287829716536, score=0.952, total=  13.5s\n",
      "[CV] C=1.3732673733736813 ............................................\n",
      "[CV] ................ C=1.3732673733736813, score=0.952, total=  15.1s\n",
      "[CV] C=1.3732673733736813 ............................................\n",
      "[CV] ................ C=1.3732673733736813, score=0.953, total=  13.2s\n",
      "[CV] C=1.3732673733736813 ............................................\n",
      "[CV] ................ C=1.3732673733736813, score=0.952, total=  16.0s\n",
      "[CV] C=1.3732673733736813 ............................................\n",
      "[CV] ................ C=1.3732673733736813, score=0.952, total=  25.7s\n",
      "[CV] C=1.3732673733736813 ............................................\n",
      "[CV] ................ C=1.3732673733736813, score=0.952, total=  20.7s\n",
      "[CV] C=1.3894954943731377 ............................................\n",
      "[CV] ................ C=1.3894954943731377, score=0.952, total=  21.2s\n",
      "[CV] C=1.3894954943731377 ............................................\n",
      "[CV] ................ C=1.3894954943731377, score=0.953, total=  18.7s\n",
      "[CV] C=1.3894954943731377 ............................................\n",
      "[CV] ................ C=1.3894954943731377, score=0.952, total=  19.8s\n",
      "[CV] C=1.3894954943731377 ............................................\n"
     ]
    },
    {
     "name": "stderr",
     "output_type": "stream",
     "text": [
      "/Users/luminda/opt/anaconda3/envs/pythondata/lib/python3.6/site-packages/sklearn/linear_model/_logistic.py:940: ConvergenceWarning: lbfgs failed to converge (status=1):\n",
      "STOP: TOTAL NO. of ITERATIONS REACHED LIMIT.\n",
      "\n",
      "Increase the number of iterations (max_iter) or scale the data as shown in:\n",
      "    https://scikit-learn.org/stable/modules/preprocessing.html\n",
      "Please also refer to the documentation for alternative solver options:\n",
      "    https://scikit-learn.org/stable/modules/linear_model.html#logistic-regression\n",
      "  extra_warning_msg=_LOGISTIC_SOLVER_CONVERGENCE_MSG)\n"
     ]
    },
    {
     "name": "stdout",
     "output_type": "stream",
     "text": [
      "[CV] ................ C=1.3894954943731377, score=0.952, total=  23.3s\n",
      "[CV] C=1.3894954943731377 ............................................\n",
      "[CV] ................ C=1.3894954943731377, score=0.952, total=  16.0s\n",
      "[CV] C=1.4059153856835176 ............................................\n",
      "[CV] ................ C=1.4059153856835176, score=0.952, total=  18.4s\n",
      "[CV] C=1.4059153856835176 ............................................\n",
      "[CV] ................ C=1.4059153856835176, score=0.953, total=  21.7s\n",
      "[CV] C=1.4059153856835176 ............................................\n",
      "[CV] ................ C=1.4059153856835176, score=0.952, total=  16.3s\n",
      "[CV] C=1.4059153856835176 ............................................\n",
      "[CV] ................ C=1.4059153856835176, score=0.952, total=  21.5s\n",
      "[CV] C=1.4059153856835176 ............................................\n",
      "[CV] ................ C=1.4059153856835176, score=0.952, total=  16.9s\n",
      "[CV] C=1.4225293134853696 ............................................\n",
      "[CV] ................ C=1.4225293134853696, score=0.952, total=  19.6s\n",
      "[CV] C=1.4225293134853696 ............................................\n",
      "[CV] ................ C=1.4225293134853696, score=0.953, total=  14.7s\n",
      "[CV] C=1.4225293134853696 ............................................\n",
      "[CV] ................ C=1.4225293134853696, score=0.952, total=  21.5s\n",
      "[CV] C=1.4225293134853696 ............................................\n",
      "[CV] ................ C=1.4225293134853696, score=0.952, total=  19.4s\n",
      "[CV] C=1.4225293134853696 ............................................\n",
      "[CV] ................ C=1.4225293134853696, score=0.952, total=  18.2s\n",
      "[CV] C=1.4393395707390622 ............................................\n",
      "[CV] ................ C=1.4393395707390622, score=0.952, total=  18.0s\n",
      "[CV] C=1.4393395707390622 ............................................\n",
      "[CV] ................ C=1.4393395707390622, score=0.953, total=  17.4s\n",
      "[CV] C=1.4393395707390622 ............................................\n",
      "[CV] ................ C=1.4393395707390622, score=0.952, total=  17.9s\n",
      "[CV] C=1.4393395707390622 ............................................\n",
      "[CV] ................ C=1.4393395707390622, score=0.952, total=  19.5s\n",
      "[CV] C=1.4393395707390622 ............................................\n",
      "[CV] ................ C=1.4393395707390622, score=0.952, total=  27.0s\n",
      "[CV] C=1.4563484775012439 ............................................\n",
      "[CV] ................ C=1.4563484775012439, score=0.952, total=  26.9s\n",
      "[CV] C=1.4563484775012439 ............................................\n",
      "[CV] ................ C=1.4563484775012439, score=0.953, total=  19.6s\n",
      "[CV] C=1.4563484775012439 ............................................\n",
      "[CV] ................ C=1.4563484775012439, score=0.952, total=  18.7s\n",
      "[CV] C=1.4563484775012439 ............................................\n",
      "[CV] ................ C=1.4563484775012439, score=0.952, total=  17.8s\n",
      "[CV] C=1.4563484775012439 ............................................\n",
      "[CV] ................ C=1.4563484775012439, score=0.952, total=  21.0s\n",
      "[CV] C=1.4735583812450452 ............................................\n",
      "[CV] ................ C=1.4735583812450452, score=0.952, total=  17.3s\n",
      "[CV] C=1.4735583812450452 ............................................\n",
      "[CV] ................ C=1.4735583812450452, score=0.952, total=  17.6s\n",
      "[CV] C=1.4735583812450452 ............................................\n",
      "[CV] ................ C=1.4735583812450452, score=0.952, total=  16.2s\n",
      "[CV] C=1.4735583812450452 ............................................\n",
      "[CV] ................ C=1.4735583812450452, score=0.952, total=  18.2s\n",
      "[CV] C=1.4735583812450452 ............................................\n",
      "[CV] ................ C=1.4735583812450452, score=0.952, total=  18.2s\n",
      "[CV] C=1.4909716571840643 ............................................\n",
      "[CV] ................ C=1.4909716571840643, score=0.952, total=  17.5s\n",
      "[CV] C=1.4909716571840643 ............................................\n",
      "[CV] ................ C=1.4909716571840643, score=0.953, total=  15.3s\n",
      "[CV] C=1.4909716571840643 ............................................\n",
      "[CV] ................ C=1.4909716571840643, score=0.952, total=  17.1s\n",
      "[CV] C=1.4909716571840643 ............................................\n",
      "[CV] ................ C=1.4909716571840643, score=0.952, total=  16.7s\n",
      "[CV] C=1.4909716571840643 ............................................\n",
      "[CV] ................ C=1.4909716571840643, score=0.952, total=  16.1s\n",
      "[CV] C=1.5085907086001784 ............................................\n",
      "[CV] ................ C=1.5085907086001784, score=0.952, total=  16.2s\n",
      "[CV] C=1.5085907086001784 ............................................\n",
      "[CV] ................ C=1.5085907086001784, score=0.953, total=  21.5s\n",
      "[CV] C=1.5085907086001784 ............................................\n",
      "[CV] ................ C=1.5085907086001784, score=0.952, total=  18.0s\n",
      "[CV] C=1.5085907086001784 ............................................\n",
      "[CV] ................ C=1.5085907086001784, score=0.952, total=  17.2s\n",
      "[CV] C=1.5085907086001784 ............................................\n",
      "[CV] ................ C=1.5085907086001784, score=0.952, total=  16.2s\n",
      "[CV] C=1.5264179671752334 ............................................\n",
      "[CV] ................ C=1.5264179671752334, score=0.952, total=  18.8s\n",
      "[CV] C=1.5264179671752334 ............................................\n",
      "[CV] ................ C=1.5264179671752334, score=0.953, total=  14.6s\n",
      "[CV] C=1.5264179671752334 ............................................\n",
      "[CV] ................ C=1.5264179671752334, score=0.952, total=  15.6s\n",
      "[CV] C=1.5264179671752334 ............................................\n",
      "[CV] ................ C=1.5264179671752334, score=0.952, total=  17.7s\n",
      "[CV] C=1.5264179671752334 ............................................\n",
      "[CV] ................ C=1.5264179671752334, score=0.952, total=  18.5s\n",
      "[CV] C=1.5444558933266497 ............................................\n",
      "[CV] ................ C=1.5444558933266497, score=0.952, total=  12.2s\n",
      "[CV] C=1.5444558933266497 ............................................\n",
      "[CV] ................ C=1.5444558933266497, score=0.952, total=  21.8s\n",
      "[CV] C=1.5444558933266497 ............................................\n",
      "[CV] ................ C=1.5444558933266497, score=0.952, total=  17.3s\n",
      "[CV] C=1.5444558933266497 ............................................\n",
      "[CV] ................ C=1.5444558933266497, score=0.952, total=  18.9s\n",
      "[CV] C=1.5444558933266497 ............................................\n",
      "[CV] ................ C=1.5444558933266497, score=0.952, total=  17.1s\n",
      "[CV] C=1.5627069765469952 ............................................\n",
      "[CV] ................ C=1.5627069765469952, score=0.952, total=  17.7s\n",
      "[CV] C=1.5627069765469952 ............................................\n",
      "[CV] ................ C=1.5627069765469952, score=0.952, total=  17.1s\n",
      "[CV] C=1.5627069765469952 ............................................\n",
      "[CV] ................ C=1.5627069765469952, score=0.952, total=  23.7s\n",
      "[CV] C=1.5627069765469952 ............................................\n",
      "[CV] ................ C=1.5627069765469952, score=0.952, total=  23.7s\n",
      "[CV] C=1.5627069765469952 ............................................\n",
      "[CV] ................ C=1.5627069765469952, score=0.952, total=  20.0s\n",
      "[CV] C=1.581173735747571 .............................................\n",
      "[CV] ................. C=1.581173735747571, score=0.952, total=  16.0s\n",
      "[CV] C=1.581173735747571 .............................................\n",
      "[CV] ................. C=1.581173735747571, score=0.952, total=  18.3s\n",
      "[CV] C=1.581173735747571 .............................................\n",
      "[CV] ................. C=1.581173735747571, score=0.952, total=  15.7s\n",
      "[CV] C=1.581173735747571 .............................................\n",
      "[CV] ................. C=1.581173735747571, score=0.952, total=  24.7s\n",
      "[CV] C=1.581173735747571 .............................................\n",
      "[CV] ................. C=1.581173735747571, score=0.952, total=  31.0s\n",
      "[CV] C=1.599858719606058 .............................................\n",
      "[CV] ................. C=1.599858719606058, score=0.952, total=  17.4s\n",
      "[CV] C=1.599858719606058 .............................................\n"
     ]
    },
    {
     "name": "stdout",
     "output_type": "stream",
     "text": [
      "[CV] ................. C=1.599858719606058, score=0.952, total=  21.5s\n",
      "[CV] C=1.599858719606058 .............................................\n"
     ]
    },
    {
     "name": "stderr",
     "output_type": "stream",
     "text": [
      "/Users/luminda/opt/anaconda3/envs/pythondata/lib/python3.6/site-packages/sklearn/linear_model/_logistic.py:940: ConvergenceWarning: lbfgs failed to converge (status=1):\n",
      "STOP: TOTAL NO. of ITERATIONS REACHED LIMIT.\n",
      "\n",
      "Increase the number of iterations (max_iter) or scale the data as shown in:\n",
      "    https://scikit-learn.org/stable/modules/preprocessing.html\n",
      "Please also refer to the documentation for alternative solver options:\n",
      "    https://scikit-learn.org/stable/modules/linear_model.html#logistic-regression\n",
      "  extra_warning_msg=_LOGISTIC_SOLVER_CONVERGENCE_MSG)\n"
     ]
    },
    {
     "name": "stdout",
     "output_type": "stream",
     "text": [
      "[CV] ................. C=1.599858719606058, score=0.952, total=  21.8s\n",
      "[CV] C=1.599858719606058 .............................................\n",
      "[CV] ................. C=1.599858719606058, score=0.952, total=  20.2s\n",
      "[CV] C=1.599858719606058 .............................................\n",
      "[CV] ................. C=1.599858719606058, score=0.952, total=  21.3s\n",
      "[CV] C=1.6187645069182697 ............................................\n",
      "[CV] ................ C=1.6187645069182697, score=0.952, total=  17.4s\n",
      "[CV] C=1.6187645069182697 ............................................\n",
      "[CV] ................ C=1.6187645069182697, score=0.952, total=  13.8s\n",
      "[CV] C=1.6187645069182697 ............................................\n",
      "[CV] ................ C=1.6187645069182697, score=0.952, total=  16.1s\n",
      "[CV] C=1.6187645069182697 ............................................\n",
      "[CV] ................ C=1.6187645069182697, score=0.952, total=  15.1s\n",
      "[CV] C=1.6187645069182697 ............................................\n",
      "[CV] ................ C=1.6187645069182697, score=0.952, total=  20.1s\n",
      "[CV] C=1.637893706954064 .............................................\n",
      "[CV] ................. C=1.637893706954064, score=0.952, total=  19.5s\n",
      "[CV] C=1.637893706954064 .............................................\n",
      "[CV] ................. C=1.637893706954064, score=0.952, total=  18.2s\n",
      "[CV] C=1.637893706954064 .............................................\n",
      "[CV] ................. C=1.637893706954064, score=0.952, total=  18.8s\n",
      "[CV] C=1.637893706954064 .............................................\n",
      "[CV] ................. C=1.637893706954064, score=0.952, total=  13.1s\n",
      "[CV] C=1.637893706954064 .............................................\n",
      "[CV] ................. C=1.637893706954064, score=0.952, total=  20.7s\n",
      "[CV] C=1.6572489598174598 ............................................\n",
      "[CV] ................ C=1.6572489598174598, score=0.952, total=  31.0s\n",
      "[CV] C=1.6572489598174598 ............................................\n",
      "[CV] ................ C=1.6572489598174598, score=0.952, total=  16.1s\n",
      "[CV] C=1.6572489598174598 ............................................\n",
      "[CV] ................ C=1.6572489598174598, score=0.952, total=  35.9s\n",
      "[CV] C=1.6572489598174598 ............................................\n",
      "[CV] ................ C=1.6572489598174598, score=0.952, total=  24.8s\n",
      "[CV] C=1.6572489598174598 ............................................\n",
      "[CV] ................ C=1.6572489598174598, score=0.952, total=  33.5s\n",
      "[CV] C=1.676832936811008 .............................................\n",
      "[CV] ................. C=1.676832936811008, score=0.952, total=  24.5s\n",
      "[CV] C=1.676832936811008 .............................................\n",
      "[CV] ................. C=1.676832936811008, score=0.952, total=  20.3s\n",
      "[CV] C=1.676832936811008 .............................................\n",
      "[CV] ................. C=1.676832936811008, score=0.952, total=  20.6s\n",
      "[CV] C=1.676832936811008 .............................................\n",
      "[CV] ................. C=1.676832936811008, score=0.952, total=  16.8s\n",
      "[CV] C=1.676832936811008 .............................................\n",
      "[CV] ................. C=1.676832936811008, score=0.952, total=  21.7s\n",
      "[CV] C=1.6966483408044721 ............................................\n",
      "[CV] ................ C=1.6966483408044721, score=0.952, total=  19.1s\n",
      "[CV] C=1.6966483408044721 ............................................\n",
      "[CV] ................ C=1.6966483408044721, score=0.952, total=  18.1s\n",
      "[CV] C=1.6966483408044721 ............................................\n",
      "[CV] ................ C=1.6966483408044721, score=0.952, total=  21.2s\n",
      "[CV] C=1.6966483408044721 ............................................\n",
      "[CV] ................ C=1.6966483408044721, score=0.952, total=  18.3s\n",
      "[CV] C=1.6966483408044721 ............................................\n",
      "[CV] ................ C=1.6966483408044721, score=0.952, total=  23.1s\n",
      "[CV] C=1.7166979066078605 ............................................\n",
      "[CV] ................ C=1.7166979066078605, score=0.952, total=  25.6s\n",
      "[CV] C=1.7166979066078605 ............................................\n",
      "[CV] ................ C=1.7166979066078605, score=0.952, total=  26.0s\n",
      "[CV] C=1.7166979066078605 ............................................\n",
      "[CV] ................ C=1.7166979066078605, score=0.952, total=  18.9s\n",
      "[CV] C=1.7166979066078605 ............................................\n",
      "[CV] ................ C=1.7166979066078605, score=0.952, total=  19.0s\n",
      "[CV] C=1.7166979066078605 ............................................\n",
      "[CV] ................ C=1.7166979066078605, score=0.952, total=  18.2s\n",
      "[CV] C=1.7369844013488704 ............................................\n",
      "[CV] ................ C=1.7369844013488704, score=0.951, total=  21.4s\n",
      "[CV] C=1.7369844013488704 ............................................\n",
      "[CV] ................ C=1.7369844013488704, score=0.952, total=  15.8s\n",
      "[CV] C=1.7369844013488704 ............................................\n",
      "[CV] ................ C=1.7369844013488704, score=0.952, total=  25.4s\n",
      "[CV] C=1.7369844013488704 ............................................\n",
      "[CV] ................ C=1.7369844013488704, score=0.952, total=  19.2s\n",
      "[CV] C=1.7369844013488704 ............................................\n",
      "[CV] ................ C=1.7369844013488704, score=0.952, total=  21.5s\n",
      "[CV] C=1.7575106248547918 ............................................\n",
      "[CV] ................ C=1.7575106248547918, score=0.951, total=  23.7s\n",
      "[CV] C=1.7575106248547918 ............................................\n",
      "[CV] ................ C=1.7575106248547918, score=0.952, total=  21.5s\n",
      "[CV] C=1.7575106248547918 ............................................\n",
      "[CV] ................ C=1.7575106248547918, score=0.952, total=  21.2s\n",
      "[CV] C=1.7575106248547918 ............................................\n",
      "[CV] ................ C=1.7575106248547918, score=0.952, total=  19.3s\n",
      "[CV] C=1.7575106248547918 ............................................\n",
      "[CV] ................ C=1.7575106248547918, score=0.952, total=  24.6s\n",
      "[CV] C=1.7782794100389228 ............................................\n",
      "[CV] ................ C=1.7782794100389228, score=0.952, total=  20.5s\n",
      "[CV] C=1.7782794100389228 ............................................\n",
      "[CV] ................ C=1.7782794100389228, score=0.952, total=  16.3s\n",
      "[CV] C=1.7782794100389228 ............................................\n",
      "[CV] ................ C=1.7782794100389228, score=0.952, total=  18.1s\n",
      "[CV] C=1.7782794100389228 ............................................\n",
      "[CV] ................ C=1.7782794100389228, score=0.952, total=  18.5s\n",
      "[CV] C=1.7782794100389228 ............................................\n",
      "[CV] ................ C=1.7782794100389228, score=0.952, total=  16.5s\n"
     ]
    },
    {
     "name": "stderr",
     "output_type": "stream",
     "text": [
      "[Parallel(n_jobs=1)]: Done 250 out of 250 | elapsed: 68.6min finished\n"
     ]
    }
   ],
   "source": [
    "best_model = grid.fit(X_train_scaled, y_train_new)"
   ]
  },
  {
   "cell_type": "code",
   "execution_count": 48,
   "metadata": {},
   "outputs": [
    {
     "name": "stdout",
     "output_type": "stream",
     "text": [
      "              precision    recall  f1-score   support\n",
      "\n",
      "           0       1.00      0.98      0.99     71091\n",
      "           1       0.08      0.86      0.14       111\n",
      "\n",
      "    accuracy                           0.98     71202\n",
      "   macro avg       0.54      0.92      0.57     71202\n",
      "weighted avg       1.00      0.98      0.99     71202\n",
      "\n"
     ]
    }
   ],
   "source": [
    "predictions_grid = grid.predict(X_test_scaled)\n",
    "predictions_grid\n",
    "print(classification_report(y_test, predictions_grid))"
   ]
  },
  {
   "cell_type": "code",
   "execution_count": 49,
   "metadata": {},
   "outputs": [
    {
     "data": {
      "text/plain": [
       "LogisticRegression(C=1.0, class_weight=None, dual=False, fit_intercept=True,\n",
       "                   intercept_scaling=1, l1_ratio=None, max_iter=500,\n",
       "                   multi_class='auto', n_jobs=None, penalty='l2',\n",
       "                   random_state=None, solver='liblinear', tol=0.0001, verbose=0,\n",
       "                   warm_start=False)"
      ]
     },
     "execution_count": 49,
     "metadata": {},
     "output_type": "execute_result"
    }
   ],
   "source": [
    "#trying the linear solver to see what happens\n",
    "classifier_lin = LogisticRegression(max_iter=500,solver='liblinear')#default=100 \n",
    "classifier_lin\n",
    "#model_lin = classifier_lin.fit(X_train_scaled, y_train_new)"
   ]
  },
  {
   "cell_type": "code",
   "execution_count": 50,
   "metadata": {},
   "outputs": [],
   "source": [
    "model_lin = classifier_lin.fit(X_train_scaled, y_train_new)"
   ]
  },
  {
   "cell_type": "code",
   "execution_count": 51,
   "metadata": {},
   "outputs": [
    {
     "name": "stdout",
     "output_type": "stream",
     "text": [
      "              precision    recall  f1-score   support\n",
      "\n",
      "           0       1.00      0.98      0.99     71091\n",
      "           1       0.08      0.86      0.14       111\n",
      "\n",
      "    accuracy                           0.98     71202\n",
      "   macro avg       0.54      0.92      0.57     71202\n",
      "weighted avg       1.00      0.98      0.99     71202\n",
      "\n"
     ]
    }
   ],
   "source": [
    "predictions_lin = model_lin.predict(X_test_scaled)\n",
    "predictions_lin\n",
    "print(classification_report(y_test, predictions_lin))"
   ]
  },
  {
   "cell_type": "code",
   "execution_count": 52,
   "metadata": {},
   "outputs": [
    {
     "data": {
      "text/plain": [
       "['logistic_model.sav']"
      ]
     },
     "execution_count": 52,
     "metadata": {},
     "output_type": "execute_result"
    }
   ],
   "source": [
    "# Save the model\n",
    "import joblib\n",
    "filename = 'logistic_model.sav'\n",
    "joblib.dump(best_model, filename)"
   ]
  },
  {
   "cell_type": "code",
   "execution_count": 53,
   "metadata": {},
   "outputs": [
    {
     "name": "stdout",
     "output_type": "stream",
     "text": [
      "              precision    recall  f1-score   support\n",
      "\n",
      "           0       1.00      0.98      0.99     71091\n",
      "           1       0.08      0.86      0.14       111\n",
      "\n",
      "    accuracy                           0.98     71202\n",
      "   macro avg       0.54      0.92      0.57     71202\n",
      "weighted avg       1.00      0.98      0.99     71202\n",
      "\n"
     ]
    }
   ],
   "source": [
    "logisticmodel = joblib.load(filename)\n",
    "prediction1=logisticmodel.predict(X_test_scaled)\n",
    "print(classification_report(y_test, prediction1))"
   ]
  }
 ],
 "metadata": {
  "colab": {
   "collapsed_sections": [],
   "name": "credit_card_1.ipynb",
   "provenance": []
  },
  "kernelspec": {
   "display_name": "pythondata",
   "language": "python",
   "name": "pythondata"
  },
  "language_info": {
   "codemirror_mode": {
    "name": "ipython",
    "version": 3
   },
   "file_extension": ".py",
   "mimetype": "text/x-python",
   "name": "python",
   "nbconvert_exporter": "python",
   "pygments_lexer": "ipython3",
   "version": "3.6.10"
  }
 },
 "nbformat": 4,
 "nbformat_minor": 4
}
