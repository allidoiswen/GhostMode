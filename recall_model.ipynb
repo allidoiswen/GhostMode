{
 "cells": [
  {
   "cell_type": "code",
   "execution_count": 18,
   "metadata": {},
   "outputs": [],
   "source": [
    "import pandas as pd\n",
    "import numpy as np\n",
    "import joblib\n",
    "from sklearn.preprocessing import MinMaxScaler\n",
    "from sklearn.metrics import classification_report\n",
    "\n",
    "import warnings\n",
    "warnings.filterwarnings(\"ignore\")\n",
    "\n",
    "# Definte variables\n",
    "seed_num = 1\n",
    "\n",
    "# import original scaler\n",
    "X_scale = joblib.load('X_scale.save') \n",
    "    \n",
    "# Load Data\n",
    "card_activity = pd.read_csv('creditcard.csv')\n",
    "X = card_activity.drop(columns=['Time', 'Class'])\n",
    "y = card_activity['Class']\n",
    "\n",
    "# Train and test\n",
    "from sklearn.model_selection import train_test_split\n",
    "X_train, X_test, y_train, y_test = train_test_split(X, y, random_state = seed_num)\n",
    "\n",
    "# Scale testing data\n",
    "X_test_scaled = X_scale.transform(X_test)"
   ]
  },
  {
   "cell_type": "code",
   "execution_count": 27,
   "metadata": {},
   "outputs": [],
   "source": [
    "def print_ML_results(modelName):\n",
    "    file_dict = {\n",
    "        'knn' : 'KNN_model.sav',\n",
    "        'logistic' : 'logistic_model.sav',\n",
    "        'svm' : 'svm.joblib',\n",
    "        'rf' : 'RF.joblib',\n",
    "        'neural' : 'neural_model.h5',\n",
    "        'deepneural' : 'deepneural_model.h5'\n",
    "    }\n",
    "    \n",
    "    # Load Model\n",
    "    if modelName != 'deepneural' and modelName != 'neural':\n",
    "        model = joblib.load(file_dict[modelName])\n",
    "    else:\n",
    "        from tensorflow.keras.models import load_model\n",
    "        model = load_model(file_dict[modelName])\n",
    "    \n",
    "   # Predict\n",
    "    if modelName != \"rf\":\n",
    "        prediction = model.predict(X_test_scaled)\n",
    "    else:\n",
    "        prediction = model.predict(X_test)\n",
    "    \n",
    "    # Print Result\n",
    "    if modelName != 'deepneural' and modelName != 'neural':\n",
    "        print(classification_report(y_test, prediction))\n",
    "    else:\n",
    "        from keras.utils import to_categorical\n",
    "        one_hot_y_test = to_categorical(y_test)\n",
    "        print(classification_report(one_hot_y_test, np.round(prediction)))"
   ]
  },
  {
   "cell_type": "code",
   "execution_count": 5,
   "metadata": {},
   "outputs": [
    {
     "name": "stdout",
     "output_type": "stream",
     "text": [
      "              precision    recall  f1-score   support\n",
      "\n",
      "           0       1.00      1.00      1.00     71091\n",
      "           1       0.86      0.76      0.80       111\n",
      "\n",
      "    accuracy                           1.00     71202\n",
      "   macro avg       0.93      0.88      0.90     71202\n",
      "weighted avg       1.00      1.00      1.00     71202\n",
      "\n"
     ]
    }
   ],
   "source": [
    "print_ML_results('knn')"
   ]
  },
  {
   "cell_type": "code",
   "execution_count": 13,
   "metadata": {},
   "outputs": [
    {
     "name": "stdout",
     "output_type": "stream",
     "text": [
      "              precision    recall  f1-score   support\n",
      "\n",
      "           0       1.00      0.98      0.99     71091\n",
      "           1       0.08      0.86      0.14       111\n",
      "\n",
      "    accuracy                           0.98     71202\n",
      "   macro avg       0.54      0.92      0.57     71202\n",
      "weighted avg       1.00      0.98      0.99     71202\n",
      "\n"
     ]
    }
   ],
   "source": [
    "print_ML_results('logistic')"
   ]
  },
  {
   "cell_type": "code",
   "execution_count": 14,
   "metadata": {},
   "outputs": [
    {
     "name": "stdout",
     "output_type": "stream",
     "text": [
      "              precision    recall  f1-score   support\n",
      "\n",
      "           0       1.00      0.99      0.99     71091\n",
      "           1       0.09      0.85      0.15       111\n",
      "\n",
      "    accuracy                           0.99     71202\n",
      "   macro avg       0.54      0.92      0.57     71202\n",
      "weighted avg       1.00      0.99      0.99     71202\n",
      "\n"
     ]
    }
   ],
   "source": [
    "print_ML_results('svm')"
   ]
  },
  {
   "cell_type": "code",
   "execution_count": 10,
   "metadata": {},
   "outputs": [
    {
     "name": "stdout",
     "output_type": "stream",
     "text": [
      "              precision    recall  f1-score   support\n",
      "\n",
      "           0       1.00      1.00      1.00     71091\n",
      "           1       0.93      0.77      0.84       111\n",
      "\n",
      "    accuracy                           1.00     71202\n",
      "   macro avg       0.97      0.88      0.92     71202\n",
      "weighted avg       1.00      1.00      1.00     71202\n",
      "\n"
     ]
    }
   ],
   "source": [
    "print_ML_results('rf')"
   ]
  },
  {
   "cell_type": "code",
   "execution_count": 28,
   "metadata": {},
   "outputs": [
    {
     "name": "stdout",
     "output_type": "stream",
     "text": [
      "              precision    recall  f1-score   support\n",
      "\n",
      "           0       1.00      0.99      0.99     71091\n",
      "           1       0.11      0.84      0.20       111\n",
      "\n",
      "   micro avg       0.99      0.99      0.99     71202\n",
      "   macro avg       0.56      0.91      0.60     71202\n",
      "weighted avg       1.00      0.99      0.99     71202\n",
      " samples avg       0.99      0.99      0.99     71202\n",
      "\n"
     ]
    }
   ],
   "source": [
    "print_ML_results('neural')"
   ]
  },
  {
   "cell_type": "code",
   "execution_count": 22,
   "metadata": {},
   "outputs": [
    {
     "name": "stdout",
     "output_type": "stream",
     "text": [
      "              precision    recall  f1-score   support\n",
      "\n",
      "           0       1.00      1.00      1.00     71091\n",
      "           1       0.58      0.76      0.66       111\n",
      "\n",
      "   micro avg       1.00      1.00      1.00     71202\n",
      "   macro avg       0.79      0.88      0.83     71202\n",
      "weighted avg       1.00      1.00      1.00     71202\n",
      " samples avg       1.00      1.00      1.00     71202\n",
      "\n"
     ]
    }
   ],
   "source": [
    "print_ML_results('deepneural')"
   ]
  },
  {
   "cell_type": "code",
   "execution_count": null,
   "metadata": {},
   "outputs": [],
   "source": []
  }
 ],
 "metadata": {
  "kernelspec": {
   "display_name": "pyadv",
   "language": "python",
   "name": "pyadv"
  },
  "language_info": {
   "codemirror_mode": {
    "name": "ipython",
    "version": 3
   },
   "file_extension": ".py",
   "mimetype": "text/x-python",
   "name": "python",
   "nbconvert_exporter": "python",
   "pygments_lexer": "ipython3",
   "version": "3.6.10"
  }
 },
 "nbformat": 4,
 "nbformat_minor": 4
}
